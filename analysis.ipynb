---

### `main.py`

```python
import pandas as pd
import seaborn as sns
import matplotlib.pyplot as plt

# Load dataset
data = pd.read_sample_dataset.csv"

# Basic info
print("\n--- Dataset Info ---")
print(data.info())
print("\n--- Summary Statistics ---")
print(data.describe())

# Missing values
print("\n--- Missing Values ---")
print(data.isnull().sum())

# Plot histogram
sns.histplot(data.iloc[:, 0], kde=True)  # first column
plt.title("Distribution of First Column")
plt.show()

# Scatter plot (first two numeric columns)
sns.scatterplot(x=data.iloc[:, 0], y=data.iloc[:, 1])
plt.title("Scatter Plot of First Two Columns")
plt.show()

# Correlation heatmap
plt.figure(figsize=(8, 6))
sns.heatmap(data.corr(), annot=True, cmap="coolwarm")
plt.title("Correlation Heatmap")
plt.show()
